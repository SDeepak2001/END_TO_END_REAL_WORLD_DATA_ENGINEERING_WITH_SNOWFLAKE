{
 "metadata": {
  "kernelspec": {
   "display_name": "Streamlit Notebook",
   "name": "streamlit"
  }
 },
 "nbformat_minor": 5,
 "nbformat": 4,
 "cells": [
  {
   "cell_type": "code",
   "id": "3775908f-ca36-4846-8f38-5adca39217f2",
   "metadata": {
    "language": "sql",
    "name": "cell1"
   },
   "source": "CREATE OR REPLACE STORAGE INTEGRATION azure_pacificretail_integration\n  TYPE = EXTERNAL_STAGE\n  STORAGE_PROVIDER = AZURE\n  ENABLED = TRUE\n  AZURE_TENANT_ID = '3f67ff9d-39c1-440f-be23-dd29d13875bf'\n  STORAGE_ALLOWED_LOCATIONS = ('azure://pacificretailsd.blob.core.windows.net/landing')\n\n\n  DESC STORAGE INTEGRATION azure_pacificretail_integration;\n\n  --39yv9dsnowflakepacint_1729270630516\n\nUSE PACIFICRETAIL_DB.BRONZE\n\n  CREATE OR REPLACE STAGE adls_stage\n    STORAGE_INTEGRATION = azure_pacificretail_integration\n    URL = 'azure://pacificretailsd.blob.core.windows.net/landing'\n\n    ls@adls_stage",
   "execution_count": null,
   "outputs": []
  },
  {
   "cell_type": "code",
   "id": "8d50cbf4-0c8d-4950-86cb-114990437ac9",
   "metadata": {
    "language": "sql",
    "name": "cell2"
   },
   "source": "-- Welcome to Snowflake Notebooks!\n-- Try out a SQL cell to generate some data.\nSELECT 'FRIDAY' as SNOWDAY, 0.2 as CHANCE_OF_SNOW\nUNION ALL\nSELECT 'SATURDAY',0.5\nUNION ALL \nSELECT 'SUNDAY', 0.9;",
   "execution_count": null,
   "outputs": []
  },
  {
   "cell_type": "code",
   "id": "c695373e-ac74-4b62-a1f1-08206cbd5c81",
   "metadata": {
    "language": "python",
    "name": "cell3"
   },
   "source": "# Then, we can use the python name to turn cell2 into a Pandas dataframe\nmy_df = cell2.to_pandas()\n\n# Chart the data\nst.subheader(\"Chance of SNOW ❄️\")\nst.line_chart(my_df, x='SNOWDAY', y='CHANCE_OF_SNOW')\n\n# Give it a go!\nst.subheader(\"Try it out yourself and show off your skills 🥇\")",
   "execution_count": null,
   "outputs": []
  }
 ]
}